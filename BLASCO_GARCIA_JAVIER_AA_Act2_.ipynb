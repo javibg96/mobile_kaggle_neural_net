{
  "nbformat": 4,
  "nbformat_minor": 0,
  "metadata": {
    "colab": {
      "name": "BLASCO_GARCIA_JAVIER_AA_Act2 .ipynb",
      "provenance": [],
      "collapsed_sections": [],
      "toc_visible": true
    },
    "kernelspec": {
      "display_name": "Python 3",
      "language": "python",
      "name": "python3"
    },
    "language_info": {
      "codemirror_mode": {
        "name": "ipython",
        "version": 3
      },
      "file_extension": ".py",
      "mimetype": "text/x-python",
      "name": "python",
      "nbconvert_exporter": "python",
      "pygments_lexer": "ipython3",
      "version": "3.6.9"
    }
  },
  "cells": [
    {
      "cell_type": "markdown",
      "metadata": {
        "id": "yyODZcWH_-qO"
      },
      "source": [
        "# ACTIVIDAD 2 - Clasificación con Máquina de Vectores de Soporte y Redes de Neuronas."
      ]
    },
    {
      "cell_type": "markdown",
      "metadata": {
        "id": "ik4QzLncqi78"
      },
      "source": [
        "Javier Blasco\n"
      ]
    },
    {
      "cell_type": "markdown",
      "metadata": {
        "id": "G2bN7dJF2EwB"
      },
      "source": [
        "# Índice\r\n",
        "[1. Preparación del entorno](#1)   \r\n",
        "&nbsp;&nbsp;[1.1. Importación de librerías](#1.1)  \r\n",
        "&nbsp;&nbsp;[1.2. Carga de dataframe](#1.2)  \r\n",
        "[2. ETL](#2)   \r\n",
        "&nbsp;&nbsp;[2.1. Limpieza del dato](#2.1)  \r\n",
        "&nbsp;&nbsp;[2.2. Datos estadísticos](#2.2)  \r\n",
        "&nbsp;&nbsp;[2.3. Correlación de los datos](#2.3)    \r\n",
        "&nbsp;&nbsp;[2.4. Datos finales](#2.4)      \r\n",
        "[3. Máquina de vectores de soporte](#3)   \r\n",
        "&nbsp;&nbsp;[3.1 Máquina de vectores de soporte lineal](#3.1)       \r\n",
        "&nbsp;&nbsp;[3.2 Máquina de vectores de soporte no lineal](#3.2)             \r\n",
        "[4. Redes neuronales](#4)     \r\n",
        "&nbsp;&nbsp;[4.1 Keras Neural Network](#4.1)    \r\n",
        "&nbsp;&nbsp;[4.2 Sklearn Neural Network](#4.2)    \r\n",
        "&nbsp;&nbsp;&nbsp;&nbsp;[4.2.1 Validación cruzada](#4.2.1)   \r\n",
        "&nbsp;&nbsp;&nbsp;&nbsp;[4.2.2 Elección rango de aprendizaje inicial óptimo](#4.2.2)    \r\n",
        "&nbsp;&nbsp;&nbsp;&nbsp;[4.2.3 Elección momentum óptimo](#4.2.3)    \r\n",
        "&nbsp;&nbsp;&nbsp;&nbsp;[4.2.4 Ejecución](#4.2.4)    \r\n",
        "[5. Conclusiones](#5) \r\n"
      ]
    },
    {
      "cell_type": "markdown",
      "metadata": {
        "id": "SDSGP_bXG4R1"
      },
      "source": [
        "# 1. Preparación del entorno <a name=\"1\"></a>"
      ]
    },
    {
      "cell_type": "markdown",
      "metadata": {
        "id": "OY_NpLAkVigA"
      },
      "source": [
        "## 1.1 Importación de librerías <a name=\"1.1\"></a>"
      ]
    },
    {
      "cell_type": "code",
      "metadata": {
        "id": "9zOjTnu5mCnF"
      },
      "source": [
        "import os\n",
        "import warnings\n",
        "warnings.filterwarnings(\"ignore\")\n",
        "\n",
        "import pandas as pd\n",
        "import numpy as np\n",
        "\n",
        "# Representacion y graficos\n",
        "import matplotlib.pyplot as plt\n",
        "import seaborn as sns\n",
        "\n",
        "from sklearn.model_selection import train_test_split, cross_validate\n",
        "from sklearn.metrics import classification_report, confusion_matrix, accuracy_score\n",
        "from sklearn.svm import SVC\n",
        "import matplotlib.pyplot as plot\n",
        "\n",
        "from sklearn.neural_network import MLPClassifier\n",
        "from keras.models import Sequential\n",
        "from keras.layers import Dense"
      ],
      "execution_count": 1,
      "outputs": []
    },
    {
      "cell_type": "markdown",
      "metadata": {
        "id": "0_8UgxTdYFEa"
      },
      "source": [
        "## 1.2 Carga del dataframe <a name=\"1.2\"></a>"
      ]
    },
    {
      "cell_type": "code",
      "metadata": {
        "id": "APvEgl31WoFa",
        "colab": {
          "base_uri": "https://localhost:8080/"
        },
        "outputId": "97e2e81b-64e5-4ec2-8d34-50d88d4b0b88"
      },
      "source": [
        "from google.colab import drive, auth\r\n",
        "\r\n",
        "drive.mount('/content/drive')"
      ],
      "execution_count": 2,
      "outputs": [
        {
          "output_type": "stream",
          "text": [
            "Mounted at /content/drive\n"
          ],
          "name": "stdout"
        }
      ]
    },
    {
      "cell_type": "code",
      "metadata": {
        "id": "OwpbKdf_XKcH",
        "colab": {
          "base_uri": "https://localhost:8080/",
          "height": 0
        },
        "outputId": "35553a53-35fa-4bba-a7ce-63d35c22ee00"
      },
      "source": [
        "path = \"\"\r\n",
        "\r\n",
        "for dirname, _, filenames in os.walk('drive/MyDrive/Master IA/ML_Act2/'):\r\n",
        "    for filename in filenames:\r\n",
        "        if \"datasets_train.csv\" in filename:\r\n",
        "          path = os.path.join(dirname, filename)\r\n",
        "\r\n",
        "\r\n",
        "df = pd.read_csv(path)\r\n",
        "\r\n",
        "print(df.shape)\r\n",
        "df.head()"
      ],
      "execution_count": 3,
      "outputs": [
        {
          "output_type": "stream",
          "text": [
            "(2000, 21)\n"
          ],
          "name": "stdout"
        },
        {
          "output_type": "execute_result",
          "data": {
            "text/html": [
              "<div>\n",
              "<style scoped>\n",
              "    .dataframe tbody tr th:only-of-type {\n",
              "        vertical-align: middle;\n",
              "    }\n",
              "\n",
              "    .dataframe tbody tr th {\n",
              "        vertical-align: top;\n",
              "    }\n",
              "\n",
              "    .dataframe thead th {\n",
              "        text-align: right;\n",
              "    }\n",
              "</style>\n",
              "<table border=\"1\" class=\"dataframe\">\n",
              "  <thead>\n",
              "    <tr style=\"text-align: right;\">\n",
              "      <th></th>\n",
              "      <th>battery_power</th>\n",
              "      <th>blue</th>\n",
              "      <th>clock_speed</th>\n",
              "      <th>dual_sim</th>\n",
              "      <th>fc</th>\n",
              "      <th>four_g</th>\n",
              "      <th>int_memory</th>\n",
              "      <th>m_dep</th>\n",
              "      <th>mobile_wt</th>\n",
              "      <th>n_cores</th>\n",
              "      <th>pc</th>\n",
              "      <th>px_height</th>\n",
              "      <th>px_width</th>\n",
              "      <th>ram</th>\n",
              "      <th>sc_h</th>\n",
              "      <th>sc_w</th>\n",
              "      <th>talk_time</th>\n",
              "      <th>three_g</th>\n",
              "      <th>touch_screen</th>\n",
              "      <th>wifi</th>\n",
              "      <th>price_range</th>\n",
              "    </tr>\n",
              "  </thead>\n",
              "  <tbody>\n",
              "    <tr>\n",
              "      <th>0</th>\n",
              "      <td>842</td>\n",
              "      <td>0</td>\n",
              "      <td>2.2</td>\n",
              "      <td>0</td>\n",
              "      <td>1</td>\n",
              "      <td>0</td>\n",
              "      <td>7</td>\n",
              "      <td>0.6</td>\n",
              "      <td>188</td>\n",
              "      <td>2</td>\n",
              "      <td>2</td>\n",
              "      <td>20</td>\n",
              "      <td>756</td>\n",
              "      <td>2549</td>\n",
              "      <td>9</td>\n",
              "      <td>7</td>\n",
              "      <td>19</td>\n",
              "      <td>0</td>\n",
              "      <td>0</td>\n",
              "      <td>1</td>\n",
              "      <td>1</td>\n",
              "    </tr>\n",
              "    <tr>\n",
              "      <th>1</th>\n",
              "      <td>1021</td>\n",
              "      <td>1</td>\n",
              "      <td>0.5</td>\n",
              "      <td>1</td>\n",
              "      <td>0</td>\n",
              "      <td>1</td>\n",
              "      <td>53</td>\n",
              "      <td>0.7</td>\n",
              "      <td>136</td>\n",
              "      <td>3</td>\n",
              "      <td>6</td>\n",
              "      <td>905</td>\n",
              "      <td>1988</td>\n",
              "      <td>2631</td>\n",
              "      <td>17</td>\n",
              "      <td>3</td>\n",
              "      <td>7</td>\n",
              "      <td>1</td>\n",
              "      <td>1</td>\n",
              "      <td>0</td>\n",
              "      <td>2</td>\n",
              "    </tr>\n",
              "    <tr>\n",
              "      <th>2</th>\n",
              "      <td>563</td>\n",
              "      <td>1</td>\n",
              "      <td>0.5</td>\n",
              "      <td>1</td>\n",
              "      <td>2</td>\n",
              "      <td>1</td>\n",
              "      <td>41</td>\n",
              "      <td>0.9</td>\n",
              "      <td>145</td>\n",
              "      <td>5</td>\n",
              "      <td>6</td>\n",
              "      <td>1263</td>\n",
              "      <td>1716</td>\n",
              "      <td>2603</td>\n",
              "      <td>11</td>\n",
              "      <td>2</td>\n",
              "      <td>9</td>\n",
              "      <td>1</td>\n",
              "      <td>1</td>\n",
              "      <td>0</td>\n",
              "      <td>2</td>\n",
              "    </tr>\n",
              "    <tr>\n",
              "      <th>3</th>\n",
              "      <td>615</td>\n",
              "      <td>1</td>\n",
              "      <td>2.5</td>\n",
              "      <td>0</td>\n",
              "      <td>0</td>\n",
              "      <td>0</td>\n",
              "      <td>10</td>\n",
              "      <td>0.8</td>\n",
              "      <td>131</td>\n",
              "      <td>6</td>\n",
              "      <td>9</td>\n",
              "      <td>1216</td>\n",
              "      <td>1786</td>\n",
              "      <td>2769</td>\n",
              "      <td>16</td>\n",
              "      <td>8</td>\n",
              "      <td>11</td>\n",
              "      <td>1</td>\n",
              "      <td>0</td>\n",
              "      <td>0</td>\n",
              "      <td>2</td>\n",
              "    </tr>\n",
              "    <tr>\n",
              "      <th>4</th>\n",
              "      <td>1821</td>\n",
              "      <td>1</td>\n",
              "      <td>1.2</td>\n",
              "      <td>0</td>\n",
              "      <td>13</td>\n",
              "      <td>1</td>\n",
              "      <td>44</td>\n",
              "      <td>0.6</td>\n",
              "      <td>141</td>\n",
              "      <td>2</td>\n",
              "      <td>14</td>\n",
              "      <td>1208</td>\n",
              "      <td>1212</td>\n",
              "      <td>1411</td>\n",
              "      <td>8</td>\n",
              "      <td>2</td>\n",
              "      <td>15</td>\n",
              "      <td>1</td>\n",
              "      <td>1</td>\n",
              "      <td>0</td>\n",
              "      <td>1</td>\n",
              "    </tr>\n",
              "  </tbody>\n",
              "</table>\n",
              "</div>"
            ],
            "text/plain": [
              "   battery_power  blue  clock_speed  ...  touch_screen  wifi  price_range\n",
              "0            842     0          2.2  ...             0     1            1\n",
              "1           1021     1          0.5  ...             1     0            2\n",
              "2            563     1          0.5  ...             1     0            2\n",
              "3            615     1          2.5  ...             0     0            2\n",
              "4           1821     1          1.2  ...             1     0            1\n",
              "\n",
              "[5 rows x 21 columns]"
            ]
          },
          "metadata": {
            "tags": []
          },
          "execution_count": 3
        }
      ]
    },
    {
      "cell_type": "markdown",
      "metadata": {
        "id": "fkF-ojjoH9GF"
      },
      "source": [
        "# 2. ETL <a name=\"2\"></a>"
      ]
    },
    {
      "cell_type": "markdown",
      "metadata": {
        "id": "1CT2uNIYbSH7"
      },
      "source": [
        "## 2.1 Limpieza del dato <a name=\"2.1\"></a>\n",
        "\n",
        "Revisamos si existe alguna variable categórica como indica el enunciando, pero comprobamos que no existe ninguna."
      ]
    },
    {
      "cell_type": "code",
      "metadata": {
        "id": "yz0E1AhUa4qe",
        "colab": {
          "base_uri": "https://localhost:8080/"
        },
        "outputId": "2aea750c-7b0a-450c-de05-49d2dae37341"
      },
      "source": [
        "numericos = [f for f in df.columns if df.dtypes[f] != 'object']\n",
        "numericos.remove('price_range')\n",
        "categoricos = [f for f in df.columns if df.dtypes[f] == 'object']\n",
        "\n",
        "print(f\"Número de Columnas de datos categoricos: {len(categoricos)}\\n\")\n",
        "if len(categoricos) > 0:\n",
        "  print(f\"Columnas de datos categoricos: {len(numericos)}\\n\\n\")\n",
        "\n",
        "print(f\"Número de columnas de datos numericos: {len(numericos)}\")\n",
        "if len(numericos) > 0:\n",
        "  print(f\"Columnas de datos numericos: {numericos}\")"
      ],
      "execution_count": 4,
      "outputs": [
        {
          "output_type": "stream",
          "text": [
            "Número de Columnas de datos categoricos: 0\n",
            "\n",
            "Número de columnas de datos numericos: 20\n",
            "Columnas de datos numericos: ['battery_power', 'blue', 'clock_speed', 'dual_sim', 'fc', 'four_g', 'int_memory', 'm_dep', 'mobile_wt', 'n_cores', 'pc', 'px_height', 'px_width', 'ram', 'sc_h', 'sc_w', 'talk_time', 'three_g', 'touch_screen', 'wifi']\n"
          ],
          "name": "stdout"
        }
      ]
    },
    {
      "cell_type": "markdown",
      "metadata": {
        "id": "fcxuw5GKbiTm"
      },
      "source": [
        "## 2.2 Datos estadísticos <a name=\"2.2\"></a>\n",
        "\n",
        "De las variables numéricas se muestran los distintos datos de media, mediana, mínimo, máximo y cuartiles."
      ]
    },
    {
      "cell_type": "code",
      "metadata": {
        "id": "zTpqFRLsbf0N",
        "colab": {
          "base_uri": "https://localhost:8080/",
          "height": 0
        },
        "outputId": "c375f046-2a10-481a-f877-56c6542a20af"
      },
      "source": [
        "df.describe()"
      ],
      "execution_count": 5,
      "outputs": [
        {
          "output_type": "execute_result",
          "data": {
            "text/html": [
              "<div>\n",
              "<style scoped>\n",
              "    .dataframe tbody tr th:only-of-type {\n",
              "        vertical-align: middle;\n",
              "    }\n",
              "\n",
              "    .dataframe tbody tr th {\n",
              "        vertical-align: top;\n",
              "    }\n",
              "\n",
              "    .dataframe thead th {\n",
              "        text-align: right;\n",
              "    }\n",
              "</style>\n",
              "<table border=\"1\" class=\"dataframe\">\n",
              "  <thead>\n",
              "    <tr style=\"text-align: right;\">\n",
              "      <th></th>\n",
              "      <th>battery_power</th>\n",
              "      <th>blue</th>\n",
              "      <th>clock_speed</th>\n",
              "      <th>dual_sim</th>\n",
              "      <th>fc</th>\n",
              "      <th>four_g</th>\n",
              "      <th>int_memory</th>\n",
              "      <th>m_dep</th>\n",
              "      <th>mobile_wt</th>\n",
              "      <th>n_cores</th>\n",
              "      <th>pc</th>\n",
              "      <th>px_height</th>\n",
              "      <th>px_width</th>\n",
              "      <th>ram</th>\n",
              "      <th>sc_h</th>\n",
              "      <th>sc_w</th>\n",
              "      <th>talk_time</th>\n",
              "      <th>three_g</th>\n",
              "      <th>touch_screen</th>\n",
              "      <th>wifi</th>\n",
              "      <th>price_range</th>\n",
              "    </tr>\n",
              "  </thead>\n",
              "  <tbody>\n",
              "    <tr>\n",
              "      <th>count</th>\n",
              "      <td>2000.000000</td>\n",
              "      <td>2000.0000</td>\n",
              "      <td>2000.000000</td>\n",
              "      <td>2000.000000</td>\n",
              "      <td>2000.000000</td>\n",
              "      <td>2000.000000</td>\n",
              "      <td>2000.000000</td>\n",
              "      <td>2000.000000</td>\n",
              "      <td>2000.000000</td>\n",
              "      <td>2000.000000</td>\n",
              "      <td>2000.000000</td>\n",
              "      <td>2000.000000</td>\n",
              "      <td>2000.000000</td>\n",
              "      <td>2000.000000</td>\n",
              "      <td>2000.000000</td>\n",
              "      <td>2000.000000</td>\n",
              "      <td>2000.000000</td>\n",
              "      <td>2000.000000</td>\n",
              "      <td>2000.000000</td>\n",
              "      <td>2000.000000</td>\n",
              "      <td>2000.000000</td>\n",
              "    </tr>\n",
              "    <tr>\n",
              "      <th>mean</th>\n",
              "      <td>1238.518500</td>\n",
              "      <td>0.4950</td>\n",
              "      <td>1.522250</td>\n",
              "      <td>0.509500</td>\n",
              "      <td>4.309500</td>\n",
              "      <td>0.521500</td>\n",
              "      <td>32.046500</td>\n",
              "      <td>0.501750</td>\n",
              "      <td>140.249000</td>\n",
              "      <td>4.520500</td>\n",
              "      <td>9.916500</td>\n",
              "      <td>645.108000</td>\n",
              "      <td>1251.515500</td>\n",
              "      <td>2124.213000</td>\n",
              "      <td>12.306500</td>\n",
              "      <td>5.767000</td>\n",
              "      <td>11.011000</td>\n",
              "      <td>0.761500</td>\n",
              "      <td>0.503000</td>\n",
              "      <td>0.507000</td>\n",
              "      <td>1.500000</td>\n",
              "    </tr>\n",
              "    <tr>\n",
              "      <th>std</th>\n",
              "      <td>439.418206</td>\n",
              "      <td>0.5001</td>\n",
              "      <td>0.816004</td>\n",
              "      <td>0.500035</td>\n",
              "      <td>4.341444</td>\n",
              "      <td>0.499662</td>\n",
              "      <td>18.145715</td>\n",
              "      <td>0.288416</td>\n",
              "      <td>35.399655</td>\n",
              "      <td>2.287837</td>\n",
              "      <td>6.064315</td>\n",
              "      <td>443.780811</td>\n",
              "      <td>432.199447</td>\n",
              "      <td>1084.732044</td>\n",
              "      <td>4.213245</td>\n",
              "      <td>4.356398</td>\n",
              "      <td>5.463955</td>\n",
              "      <td>0.426273</td>\n",
              "      <td>0.500116</td>\n",
              "      <td>0.500076</td>\n",
              "      <td>1.118314</td>\n",
              "    </tr>\n",
              "    <tr>\n",
              "      <th>min</th>\n",
              "      <td>501.000000</td>\n",
              "      <td>0.0000</td>\n",
              "      <td>0.500000</td>\n",
              "      <td>0.000000</td>\n",
              "      <td>0.000000</td>\n",
              "      <td>0.000000</td>\n",
              "      <td>2.000000</td>\n",
              "      <td>0.100000</td>\n",
              "      <td>80.000000</td>\n",
              "      <td>1.000000</td>\n",
              "      <td>0.000000</td>\n",
              "      <td>0.000000</td>\n",
              "      <td>500.000000</td>\n",
              "      <td>256.000000</td>\n",
              "      <td>5.000000</td>\n",
              "      <td>0.000000</td>\n",
              "      <td>2.000000</td>\n",
              "      <td>0.000000</td>\n",
              "      <td>0.000000</td>\n",
              "      <td>0.000000</td>\n",
              "      <td>0.000000</td>\n",
              "    </tr>\n",
              "    <tr>\n",
              "      <th>25%</th>\n",
              "      <td>851.750000</td>\n",
              "      <td>0.0000</td>\n",
              "      <td>0.700000</td>\n",
              "      <td>0.000000</td>\n",
              "      <td>1.000000</td>\n",
              "      <td>0.000000</td>\n",
              "      <td>16.000000</td>\n",
              "      <td>0.200000</td>\n",
              "      <td>109.000000</td>\n",
              "      <td>3.000000</td>\n",
              "      <td>5.000000</td>\n",
              "      <td>282.750000</td>\n",
              "      <td>874.750000</td>\n",
              "      <td>1207.500000</td>\n",
              "      <td>9.000000</td>\n",
              "      <td>2.000000</td>\n",
              "      <td>6.000000</td>\n",
              "      <td>1.000000</td>\n",
              "      <td>0.000000</td>\n",
              "      <td>0.000000</td>\n",
              "      <td>0.750000</td>\n",
              "    </tr>\n",
              "    <tr>\n",
              "      <th>50%</th>\n",
              "      <td>1226.000000</td>\n",
              "      <td>0.0000</td>\n",
              "      <td>1.500000</td>\n",
              "      <td>1.000000</td>\n",
              "      <td>3.000000</td>\n",
              "      <td>1.000000</td>\n",
              "      <td>32.000000</td>\n",
              "      <td>0.500000</td>\n",
              "      <td>141.000000</td>\n",
              "      <td>4.000000</td>\n",
              "      <td>10.000000</td>\n",
              "      <td>564.000000</td>\n",
              "      <td>1247.000000</td>\n",
              "      <td>2146.500000</td>\n",
              "      <td>12.000000</td>\n",
              "      <td>5.000000</td>\n",
              "      <td>11.000000</td>\n",
              "      <td>1.000000</td>\n",
              "      <td>1.000000</td>\n",
              "      <td>1.000000</td>\n",
              "      <td>1.500000</td>\n",
              "    </tr>\n",
              "    <tr>\n",
              "      <th>75%</th>\n",
              "      <td>1615.250000</td>\n",
              "      <td>1.0000</td>\n",
              "      <td>2.200000</td>\n",
              "      <td>1.000000</td>\n",
              "      <td>7.000000</td>\n",
              "      <td>1.000000</td>\n",
              "      <td>48.000000</td>\n",
              "      <td>0.800000</td>\n",
              "      <td>170.000000</td>\n",
              "      <td>7.000000</td>\n",
              "      <td>15.000000</td>\n",
              "      <td>947.250000</td>\n",
              "      <td>1633.000000</td>\n",
              "      <td>3064.500000</td>\n",
              "      <td>16.000000</td>\n",
              "      <td>9.000000</td>\n",
              "      <td>16.000000</td>\n",
              "      <td>1.000000</td>\n",
              "      <td>1.000000</td>\n",
              "      <td>1.000000</td>\n",
              "      <td>2.250000</td>\n",
              "    </tr>\n",
              "    <tr>\n",
              "      <th>max</th>\n",
              "      <td>1998.000000</td>\n",
              "      <td>1.0000</td>\n",
              "      <td>3.000000</td>\n",
              "      <td>1.000000</td>\n",
              "      <td>19.000000</td>\n",
              "      <td>1.000000</td>\n",
              "      <td>64.000000</td>\n",
              "      <td>1.000000</td>\n",
              "      <td>200.000000</td>\n",
              "      <td>8.000000</td>\n",
              "      <td>20.000000</td>\n",
              "      <td>1960.000000</td>\n",
              "      <td>1998.000000</td>\n",
              "      <td>3998.000000</td>\n",
              "      <td>19.000000</td>\n",
              "      <td>18.000000</td>\n",
              "      <td>20.000000</td>\n",
              "      <td>1.000000</td>\n",
              "      <td>1.000000</td>\n",
              "      <td>1.000000</td>\n",
              "      <td>3.000000</td>\n",
              "    </tr>\n",
              "  </tbody>\n",
              "</table>\n",
              "</div>"
            ],
            "text/plain": [
              "       battery_power       blue  ...         wifi  price_range\n",
              "count    2000.000000  2000.0000  ...  2000.000000  2000.000000\n",
              "mean     1238.518500     0.4950  ...     0.507000     1.500000\n",
              "std       439.418206     0.5001  ...     0.500076     1.118314\n",
              "min       501.000000     0.0000  ...     0.000000     0.000000\n",
              "25%       851.750000     0.0000  ...     0.000000     0.750000\n",
              "50%      1226.000000     0.0000  ...     1.000000     1.500000\n",
              "75%      1615.250000     1.0000  ...     1.000000     2.250000\n",
              "max      1998.000000     1.0000  ...     1.000000     3.000000\n",
              "\n",
              "[8 rows x 21 columns]"
            ]
          },
          "metadata": {
            "tags": []
          },
          "execution_count": 5
        }
      ]
    },
    {
      "cell_type": "code",
      "metadata": {
        "id": "spQgR9-o7sc3",
        "colab": {
          "base_uri": "https://localhost:8080/"
        },
        "outputId": "1ecc1f13-962a-4ac3-c685-d51a44adbaea"
      },
      "source": [
        "df.info()"
      ],
      "execution_count": 6,
      "outputs": [
        {
          "output_type": "stream",
          "text": [
            "<class 'pandas.core.frame.DataFrame'>\n",
            "RangeIndex: 2000 entries, 0 to 1999\n",
            "Data columns (total 21 columns):\n",
            " #   Column         Non-Null Count  Dtype  \n",
            "---  ------         --------------  -----  \n",
            " 0   battery_power  2000 non-null   int64  \n",
            " 1   blue           2000 non-null   int64  \n",
            " 2   clock_speed    2000 non-null   float64\n",
            " 3   dual_sim       2000 non-null   int64  \n",
            " 4   fc             2000 non-null   int64  \n",
            " 5   four_g         2000 non-null   int64  \n",
            " 6   int_memory     2000 non-null   int64  \n",
            " 7   m_dep          2000 non-null   float64\n",
            " 8   mobile_wt      2000 non-null   int64  \n",
            " 9   n_cores        2000 non-null   int64  \n",
            " 10  pc             2000 non-null   int64  \n",
            " 11  px_height      2000 non-null   int64  \n",
            " 12  px_width       2000 non-null   int64  \n",
            " 13  ram            2000 non-null   int64  \n",
            " 14  sc_h           2000 non-null   int64  \n",
            " 15  sc_w           2000 non-null   int64  \n",
            " 16  talk_time      2000 non-null   int64  \n",
            " 17  three_g        2000 non-null   int64  \n",
            " 18  touch_screen   2000 non-null   int64  \n",
            " 19  wifi           2000 non-null   int64  \n",
            " 20  price_range    2000 non-null   int64  \n",
            "dtypes: float64(2), int64(19)\n",
            "memory usage: 328.2 KB\n"
          ],
          "name": "stdout"
        }
      ]
    },
    {
      "cell_type": "markdown",
      "metadata": {
        "id": "4KdR75Tv77U6"
      },
      "source": [
        "Comprobamos la cantidad de datos nulos del dataset, a pesar de que con info() nos ha indicado que no existen:"
      ]
    },
    {
      "cell_type": "code",
      "metadata": {
        "id": "1MsH-c6x764o",
        "colab": {
          "base_uri": "https://localhost:8080/"
        },
        "outputId": "0d6571fd-6063-418a-8a79-71a2db0d5c1b"
      },
      "source": [
        "df.isnull().sum()"
      ],
      "execution_count": 7,
      "outputs": [
        {
          "output_type": "execute_result",
          "data": {
            "text/plain": [
              "battery_power    0\n",
              "blue             0\n",
              "clock_speed      0\n",
              "dual_sim         0\n",
              "fc               0\n",
              "four_g           0\n",
              "int_memory       0\n",
              "m_dep            0\n",
              "mobile_wt        0\n",
              "n_cores          0\n",
              "pc               0\n",
              "px_height        0\n",
              "px_width         0\n",
              "ram              0\n",
              "sc_h             0\n",
              "sc_w             0\n",
              "talk_time        0\n",
              "three_g          0\n",
              "touch_screen     0\n",
              "wifi             0\n",
              "price_range      0\n",
              "dtype: int64"
            ]
          },
          "metadata": {
            "tags": []
          },
          "execution_count": 7
        }
      ]
    },
    {
      "cell_type": "markdown",
      "metadata": {
        "id": "R8DiFz38Qzy3"
      },
      "source": [
        "## 2.3 Correlaciones de los datos <a name=\"2.3\"></a>\n",
        "\n",
        "Primero de todo, encontramos la matriz de correlación con todas las variables."
      ]
    },
    {
      "cell_type": "code",
      "metadata": {
        "id": "Ye04GkffQzW5",
        "colab": {
          "base_uri": "https://localhost:8080/",
          "height": 0
        },
        "outputId": "0b6bf64a-55da-489c-fa1e-563f7c00a2b8"
      },
      "source": [
        "df.corr(method=\"pearson\")"
      ],
      "execution_count": 8,
      "outputs": [
        {
          "output_type": "execute_result",
          "data": {
            "text/html": [
              "<div>\n",
              "<style scoped>\n",
              "    .dataframe tbody tr th:only-of-type {\n",
              "        vertical-align: middle;\n",
              "    }\n",
              "\n",
              "    .dataframe tbody tr th {\n",
              "        vertical-align: top;\n",
              "    }\n",
              "\n",
              "    .dataframe thead th {\n",
              "        text-align: right;\n",
              "    }\n",
              "</style>\n",
              "<table border=\"1\" class=\"dataframe\">\n",
              "  <thead>\n",
              "    <tr style=\"text-align: right;\">\n",
              "      <th></th>\n",
              "      <th>battery_power</th>\n",
              "      <th>blue</th>\n",
              "      <th>clock_speed</th>\n",
              "      <th>dual_sim</th>\n",
              "      <th>fc</th>\n",
              "      <th>four_g</th>\n",
              "      <th>int_memory</th>\n",
              "      <th>m_dep</th>\n",
              "      <th>mobile_wt</th>\n",
              "      <th>n_cores</th>\n",
              "      <th>pc</th>\n",
              "      <th>px_height</th>\n",
              "      <th>px_width</th>\n",
              "      <th>ram</th>\n",
              "      <th>sc_h</th>\n",
              "      <th>sc_w</th>\n",
              "      <th>talk_time</th>\n",
              "      <th>three_g</th>\n",
              "      <th>touch_screen</th>\n",
              "      <th>wifi</th>\n",
              "      <th>price_range</th>\n",
              "    </tr>\n",
              "  </thead>\n",
              "  <tbody>\n",
              "    <tr>\n",
              "      <th>battery_power</th>\n",
              "      <td>1.000000</td>\n",
              "      <td>0.011252</td>\n",
              "      <td>0.011482</td>\n",
              "      <td>-0.041847</td>\n",
              "      <td>0.033334</td>\n",
              "      <td>0.015665</td>\n",
              "      <td>-0.004004</td>\n",
              "      <td>0.034085</td>\n",
              "      <td>0.001844</td>\n",
              "      <td>-0.029727</td>\n",
              "      <td>0.031441</td>\n",
              "      <td>0.014901</td>\n",
              "      <td>-0.008402</td>\n",
              "      <td>-0.000653</td>\n",
              "      <td>-0.029959</td>\n",
              "      <td>-0.021421</td>\n",
              "      <td>0.052510</td>\n",
              "      <td>0.011522</td>\n",
              "      <td>-0.010516</td>\n",
              "      <td>-0.008343</td>\n",
              "      <td>0.200723</td>\n",
              "    </tr>\n",
              "    <tr>\n",
              "      <th>blue</th>\n",
              "      <td>0.011252</td>\n",
              "      <td>1.000000</td>\n",
              "      <td>0.021419</td>\n",
              "      <td>0.035198</td>\n",
              "      <td>0.003593</td>\n",
              "      <td>0.013443</td>\n",
              "      <td>0.041177</td>\n",
              "      <td>0.004049</td>\n",
              "      <td>-0.008605</td>\n",
              "      <td>0.036161</td>\n",
              "      <td>-0.009952</td>\n",
              "      <td>-0.006872</td>\n",
              "      <td>-0.041533</td>\n",
              "      <td>0.026351</td>\n",
              "      <td>-0.002952</td>\n",
              "      <td>0.000613</td>\n",
              "      <td>0.013934</td>\n",
              "      <td>-0.030236</td>\n",
              "      <td>0.010061</td>\n",
              "      <td>-0.021863</td>\n",
              "      <td>0.020573</td>\n",
              "    </tr>\n",
              "    <tr>\n",
              "      <th>clock_speed</th>\n",
              "      <td>0.011482</td>\n",
              "      <td>0.021419</td>\n",
              "      <td>1.000000</td>\n",
              "      <td>-0.001315</td>\n",
              "      <td>-0.000434</td>\n",
              "      <td>-0.043073</td>\n",
              "      <td>0.006545</td>\n",
              "      <td>-0.014364</td>\n",
              "      <td>0.012350</td>\n",
              "      <td>-0.005724</td>\n",
              "      <td>-0.005245</td>\n",
              "      <td>-0.014523</td>\n",
              "      <td>-0.009476</td>\n",
              "      <td>0.003443</td>\n",
              "      <td>-0.029078</td>\n",
              "      <td>-0.007378</td>\n",
              "      <td>-0.011432</td>\n",
              "      <td>-0.046433</td>\n",
              "      <td>0.019756</td>\n",
              "      <td>-0.024471</td>\n",
              "      <td>-0.006606</td>\n",
              "    </tr>\n",
              "    <tr>\n",
              "      <th>dual_sim</th>\n",
              "      <td>-0.041847</td>\n",
              "      <td>0.035198</td>\n",
              "      <td>-0.001315</td>\n",
              "      <td>1.000000</td>\n",
              "      <td>-0.029123</td>\n",
              "      <td>0.003187</td>\n",
              "      <td>-0.015679</td>\n",
              "      <td>-0.022142</td>\n",
              "      <td>-0.008979</td>\n",
              "      <td>-0.024658</td>\n",
              "      <td>-0.017143</td>\n",
              "      <td>-0.020875</td>\n",
              "      <td>0.014291</td>\n",
              "      <td>0.041072</td>\n",
              "      <td>-0.011949</td>\n",
              "      <td>-0.016666</td>\n",
              "      <td>-0.039404</td>\n",
              "      <td>-0.014008</td>\n",
              "      <td>-0.017117</td>\n",
              "      <td>0.022740</td>\n",
              "      <td>0.017444</td>\n",
              "    </tr>\n",
              "    <tr>\n",
              "      <th>fc</th>\n",
              "      <td>0.033334</td>\n",
              "      <td>0.003593</td>\n",
              "      <td>-0.000434</td>\n",
              "      <td>-0.029123</td>\n",
              "      <td>1.000000</td>\n",
              "      <td>-0.016560</td>\n",
              "      <td>-0.029133</td>\n",
              "      <td>-0.001791</td>\n",
              "      <td>0.023618</td>\n",
              "      <td>-0.013356</td>\n",
              "      <td>0.644595</td>\n",
              "      <td>-0.009990</td>\n",
              "      <td>-0.005176</td>\n",
              "      <td>0.015099</td>\n",
              "      <td>-0.011014</td>\n",
              "      <td>-0.012373</td>\n",
              "      <td>-0.006829</td>\n",
              "      <td>0.001793</td>\n",
              "      <td>-0.014828</td>\n",
              "      <td>0.020085</td>\n",
              "      <td>0.021998</td>\n",
              "    </tr>\n",
              "    <tr>\n",
              "      <th>four_g</th>\n",
              "      <td>0.015665</td>\n",
              "      <td>0.013443</td>\n",
              "      <td>-0.043073</td>\n",
              "      <td>0.003187</td>\n",
              "      <td>-0.016560</td>\n",
              "      <td>1.000000</td>\n",
              "      <td>0.008690</td>\n",
              "      <td>-0.001823</td>\n",
              "      <td>-0.016537</td>\n",
              "      <td>-0.029706</td>\n",
              "      <td>-0.005598</td>\n",
              "      <td>-0.019236</td>\n",
              "      <td>0.007448</td>\n",
              "      <td>0.007313</td>\n",
              "      <td>0.027166</td>\n",
              "      <td>0.037005</td>\n",
              "      <td>-0.046628</td>\n",
              "      <td>0.584246</td>\n",
              "      <td>0.016758</td>\n",
              "      <td>-0.017620</td>\n",
              "      <td>0.014772</td>\n",
              "    </tr>\n",
              "    <tr>\n",
              "      <th>int_memory</th>\n",
              "      <td>-0.004004</td>\n",
              "      <td>0.041177</td>\n",
              "      <td>0.006545</td>\n",
              "      <td>-0.015679</td>\n",
              "      <td>-0.029133</td>\n",
              "      <td>0.008690</td>\n",
              "      <td>1.000000</td>\n",
              "      <td>0.006886</td>\n",
              "      <td>-0.034214</td>\n",
              "      <td>-0.028310</td>\n",
              "      <td>-0.033273</td>\n",
              "      <td>0.010441</td>\n",
              "      <td>-0.008335</td>\n",
              "      <td>0.032813</td>\n",
              "      <td>0.037771</td>\n",
              "      <td>0.011731</td>\n",
              "      <td>-0.002790</td>\n",
              "      <td>-0.009366</td>\n",
              "      <td>-0.026999</td>\n",
              "      <td>0.006993</td>\n",
              "      <td>0.044435</td>\n",
              "    </tr>\n",
              "    <tr>\n",
              "      <th>m_dep</th>\n",
              "      <td>0.034085</td>\n",
              "      <td>0.004049</td>\n",
              "      <td>-0.014364</td>\n",
              "      <td>-0.022142</td>\n",
              "      <td>-0.001791</td>\n",
              "      <td>-0.001823</td>\n",
              "      <td>0.006886</td>\n",
              "      <td>1.000000</td>\n",
              "      <td>0.021756</td>\n",
              "      <td>-0.003504</td>\n",
              "      <td>0.026282</td>\n",
              "      <td>0.025263</td>\n",
              "      <td>0.023566</td>\n",
              "      <td>-0.009434</td>\n",
              "      <td>-0.025348</td>\n",
              "      <td>-0.018388</td>\n",
              "      <td>0.017003</td>\n",
              "      <td>-0.012065</td>\n",
              "      <td>-0.002638</td>\n",
              "      <td>-0.028353</td>\n",
              "      <td>0.000853</td>\n",
              "    </tr>\n",
              "    <tr>\n",
              "      <th>mobile_wt</th>\n",
              "      <td>0.001844</td>\n",
              "      <td>-0.008605</td>\n",
              "      <td>0.012350</td>\n",
              "      <td>-0.008979</td>\n",
              "      <td>0.023618</td>\n",
              "      <td>-0.016537</td>\n",
              "      <td>-0.034214</td>\n",
              "      <td>0.021756</td>\n",
              "      <td>1.000000</td>\n",
              "      <td>-0.018989</td>\n",
              "      <td>0.018844</td>\n",
              "      <td>0.000939</td>\n",
              "      <td>0.000090</td>\n",
              "      <td>-0.002581</td>\n",
              "      <td>-0.033855</td>\n",
              "      <td>-0.020761</td>\n",
              "      <td>0.006209</td>\n",
              "      <td>0.001551</td>\n",
              "      <td>-0.014368</td>\n",
              "      <td>-0.000409</td>\n",
              "      <td>-0.030302</td>\n",
              "    </tr>\n",
              "    <tr>\n",
              "      <th>n_cores</th>\n",
              "      <td>-0.029727</td>\n",
              "      <td>0.036161</td>\n",
              "      <td>-0.005724</td>\n",
              "      <td>-0.024658</td>\n",
              "      <td>-0.013356</td>\n",
              "      <td>-0.029706</td>\n",
              "      <td>-0.028310</td>\n",
              "      <td>-0.003504</td>\n",
              "      <td>-0.018989</td>\n",
              "      <td>1.000000</td>\n",
              "      <td>-0.001193</td>\n",
              "      <td>-0.006872</td>\n",
              "      <td>0.024480</td>\n",
              "      <td>0.004868</td>\n",
              "      <td>-0.000315</td>\n",
              "      <td>0.025826</td>\n",
              "      <td>0.013148</td>\n",
              "      <td>-0.014733</td>\n",
              "      <td>0.023774</td>\n",
              "      <td>-0.009964</td>\n",
              "      <td>0.004399</td>\n",
              "    </tr>\n",
              "    <tr>\n",
              "      <th>pc</th>\n",
              "      <td>0.031441</td>\n",
              "      <td>-0.009952</td>\n",
              "      <td>-0.005245</td>\n",
              "      <td>-0.017143</td>\n",
              "      <td>0.644595</td>\n",
              "      <td>-0.005598</td>\n",
              "      <td>-0.033273</td>\n",
              "      <td>0.026282</td>\n",
              "      <td>0.018844</td>\n",
              "      <td>-0.001193</td>\n",
              "      <td>1.000000</td>\n",
              "      <td>-0.018465</td>\n",
              "      <td>0.004196</td>\n",
              "      <td>0.028984</td>\n",
              "      <td>0.004938</td>\n",
              "      <td>-0.023819</td>\n",
              "      <td>0.014657</td>\n",
              "      <td>-0.001322</td>\n",
              "      <td>-0.008742</td>\n",
              "      <td>0.005389</td>\n",
              "      <td>0.033599</td>\n",
              "    </tr>\n",
              "    <tr>\n",
              "      <th>px_height</th>\n",
              "      <td>0.014901</td>\n",
              "      <td>-0.006872</td>\n",
              "      <td>-0.014523</td>\n",
              "      <td>-0.020875</td>\n",
              "      <td>-0.009990</td>\n",
              "      <td>-0.019236</td>\n",
              "      <td>0.010441</td>\n",
              "      <td>0.025263</td>\n",
              "      <td>0.000939</td>\n",
              "      <td>-0.006872</td>\n",
              "      <td>-0.018465</td>\n",
              "      <td>1.000000</td>\n",
              "      <td>0.510664</td>\n",
              "      <td>-0.020352</td>\n",
              "      <td>0.059615</td>\n",
              "      <td>0.043038</td>\n",
              "      <td>-0.010645</td>\n",
              "      <td>-0.031174</td>\n",
              "      <td>0.021891</td>\n",
              "      <td>0.051824</td>\n",
              "      <td>0.148858</td>\n",
              "    </tr>\n",
              "    <tr>\n",
              "      <th>px_width</th>\n",
              "      <td>-0.008402</td>\n",
              "      <td>-0.041533</td>\n",
              "      <td>-0.009476</td>\n",
              "      <td>0.014291</td>\n",
              "      <td>-0.005176</td>\n",
              "      <td>0.007448</td>\n",
              "      <td>-0.008335</td>\n",
              "      <td>0.023566</td>\n",
              "      <td>0.000090</td>\n",
              "      <td>0.024480</td>\n",
              "      <td>0.004196</td>\n",
              "      <td>0.510664</td>\n",
              "      <td>1.000000</td>\n",
              "      <td>0.004105</td>\n",
              "      <td>0.021599</td>\n",
              "      <td>0.034699</td>\n",
              "      <td>0.006720</td>\n",
              "      <td>0.000350</td>\n",
              "      <td>-0.001628</td>\n",
              "      <td>0.030319</td>\n",
              "      <td>0.165818</td>\n",
              "    </tr>\n",
              "    <tr>\n",
              "      <th>ram</th>\n",
              "      <td>-0.000653</td>\n",
              "      <td>0.026351</td>\n",
              "      <td>0.003443</td>\n",
              "      <td>0.041072</td>\n",
              "      <td>0.015099</td>\n",
              "      <td>0.007313</td>\n",
              "      <td>0.032813</td>\n",
              "      <td>-0.009434</td>\n",
              "      <td>-0.002581</td>\n",
              "      <td>0.004868</td>\n",
              "      <td>0.028984</td>\n",
              "      <td>-0.020352</td>\n",
              "      <td>0.004105</td>\n",
              "      <td>1.000000</td>\n",
              "      <td>0.015996</td>\n",
              "      <td>0.035576</td>\n",
              "      <td>0.010820</td>\n",
              "      <td>0.015795</td>\n",
              "      <td>-0.030455</td>\n",
              "      <td>0.022669</td>\n",
              "      <td>0.917046</td>\n",
              "    </tr>\n",
              "    <tr>\n",
              "      <th>sc_h</th>\n",
              "      <td>-0.029959</td>\n",
              "      <td>-0.002952</td>\n",
              "      <td>-0.029078</td>\n",
              "      <td>-0.011949</td>\n",
              "      <td>-0.011014</td>\n",
              "      <td>0.027166</td>\n",
              "      <td>0.037771</td>\n",
              "      <td>-0.025348</td>\n",
              "      <td>-0.033855</td>\n",
              "      <td>-0.000315</td>\n",
              "      <td>0.004938</td>\n",
              "      <td>0.059615</td>\n",
              "      <td>0.021599</td>\n",
              "      <td>0.015996</td>\n",
              "      <td>1.000000</td>\n",
              "      <td>0.506144</td>\n",
              "      <td>-0.017335</td>\n",
              "      <td>0.012033</td>\n",
              "      <td>-0.020023</td>\n",
              "      <td>0.025929</td>\n",
              "      <td>0.022986</td>\n",
              "    </tr>\n",
              "    <tr>\n",
              "      <th>sc_w</th>\n",
              "      <td>-0.021421</td>\n",
              "      <td>0.000613</td>\n",
              "      <td>-0.007378</td>\n",
              "      <td>-0.016666</td>\n",
              "      <td>-0.012373</td>\n",
              "      <td>0.037005</td>\n",
              "      <td>0.011731</td>\n",
              "      <td>-0.018388</td>\n",
              "      <td>-0.020761</td>\n",
              "      <td>0.025826</td>\n",
              "      <td>-0.023819</td>\n",
              "      <td>0.043038</td>\n",
              "      <td>0.034699</td>\n",
              "      <td>0.035576</td>\n",
              "      <td>0.506144</td>\n",
              "      <td>1.000000</td>\n",
              "      <td>-0.022821</td>\n",
              "      <td>0.030941</td>\n",
              "      <td>0.012720</td>\n",
              "      <td>0.035423</td>\n",
              "      <td>0.038711</td>\n",
              "    </tr>\n",
              "    <tr>\n",
              "      <th>talk_time</th>\n",
              "      <td>0.052510</td>\n",
              "      <td>0.013934</td>\n",
              "      <td>-0.011432</td>\n",
              "      <td>-0.039404</td>\n",
              "      <td>-0.006829</td>\n",
              "      <td>-0.046628</td>\n",
              "      <td>-0.002790</td>\n",
              "      <td>0.017003</td>\n",
              "      <td>0.006209</td>\n",
              "      <td>0.013148</td>\n",
              "      <td>0.014657</td>\n",
              "      <td>-0.010645</td>\n",
              "      <td>0.006720</td>\n",
              "      <td>0.010820</td>\n",
              "      <td>-0.017335</td>\n",
              "      <td>-0.022821</td>\n",
              "      <td>1.000000</td>\n",
              "      <td>-0.042688</td>\n",
              "      <td>0.017196</td>\n",
              "      <td>-0.029504</td>\n",
              "      <td>0.021859</td>\n",
              "    </tr>\n",
              "    <tr>\n",
              "      <th>three_g</th>\n",
              "      <td>0.011522</td>\n",
              "      <td>-0.030236</td>\n",
              "      <td>-0.046433</td>\n",
              "      <td>-0.014008</td>\n",
              "      <td>0.001793</td>\n",
              "      <td>0.584246</td>\n",
              "      <td>-0.009366</td>\n",
              "      <td>-0.012065</td>\n",
              "      <td>0.001551</td>\n",
              "      <td>-0.014733</td>\n",
              "      <td>-0.001322</td>\n",
              "      <td>-0.031174</td>\n",
              "      <td>0.000350</td>\n",
              "      <td>0.015795</td>\n",
              "      <td>0.012033</td>\n",
              "      <td>0.030941</td>\n",
              "      <td>-0.042688</td>\n",
              "      <td>1.000000</td>\n",
              "      <td>0.013917</td>\n",
              "      <td>0.004316</td>\n",
              "      <td>0.023611</td>\n",
              "    </tr>\n",
              "    <tr>\n",
              "      <th>touch_screen</th>\n",
              "      <td>-0.010516</td>\n",
              "      <td>0.010061</td>\n",
              "      <td>0.019756</td>\n",
              "      <td>-0.017117</td>\n",
              "      <td>-0.014828</td>\n",
              "      <td>0.016758</td>\n",
              "      <td>-0.026999</td>\n",
              "      <td>-0.002638</td>\n",
              "      <td>-0.014368</td>\n",
              "      <td>0.023774</td>\n",
              "      <td>-0.008742</td>\n",
              "      <td>0.021891</td>\n",
              "      <td>-0.001628</td>\n",
              "      <td>-0.030455</td>\n",
              "      <td>-0.020023</td>\n",
              "      <td>0.012720</td>\n",
              "      <td>0.017196</td>\n",
              "      <td>0.013917</td>\n",
              "      <td>1.000000</td>\n",
              "      <td>0.011917</td>\n",
              "      <td>-0.030411</td>\n",
              "    </tr>\n",
              "    <tr>\n",
              "      <th>wifi</th>\n",
              "      <td>-0.008343</td>\n",
              "      <td>-0.021863</td>\n",
              "      <td>-0.024471</td>\n",
              "      <td>0.022740</td>\n",
              "      <td>0.020085</td>\n",
              "      <td>-0.017620</td>\n",
              "      <td>0.006993</td>\n",
              "      <td>-0.028353</td>\n",
              "      <td>-0.000409</td>\n",
              "      <td>-0.009964</td>\n",
              "      <td>0.005389</td>\n",
              "      <td>0.051824</td>\n",
              "      <td>0.030319</td>\n",
              "      <td>0.022669</td>\n",
              "      <td>0.025929</td>\n",
              "      <td>0.035423</td>\n",
              "      <td>-0.029504</td>\n",
              "      <td>0.004316</td>\n",
              "      <td>0.011917</td>\n",
              "      <td>1.000000</td>\n",
              "      <td>0.018785</td>\n",
              "    </tr>\n",
              "    <tr>\n",
              "      <th>price_range</th>\n",
              "      <td>0.200723</td>\n",
              "      <td>0.020573</td>\n",
              "      <td>-0.006606</td>\n",
              "      <td>0.017444</td>\n",
              "      <td>0.021998</td>\n",
              "      <td>0.014772</td>\n",
              "      <td>0.044435</td>\n",
              "      <td>0.000853</td>\n",
              "      <td>-0.030302</td>\n",
              "      <td>0.004399</td>\n",
              "      <td>0.033599</td>\n",
              "      <td>0.148858</td>\n",
              "      <td>0.165818</td>\n",
              "      <td>0.917046</td>\n",
              "      <td>0.022986</td>\n",
              "      <td>0.038711</td>\n",
              "      <td>0.021859</td>\n",
              "      <td>0.023611</td>\n",
              "      <td>-0.030411</td>\n",
              "      <td>0.018785</td>\n",
              "      <td>1.000000</td>\n",
              "    </tr>\n",
              "  </tbody>\n",
              "</table>\n",
              "</div>"
            ],
            "text/plain": [
              "               battery_power      blue  ...      wifi  price_range\n",
              "battery_power       1.000000  0.011252  ... -0.008343     0.200723\n",
              "blue                0.011252  1.000000  ... -0.021863     0.020573\n",
              "clock_speed         0.011482  0.021419  ... -0.024471    -0.006606\n",
              "dual_sim           -0.041847  0.035198  ...  0.022740     0.017444\n",
              "fc                  0.033334  0.003593  ...  0.020085     0.021998\n",
              "four_g              0.015665  0.013443  ... -0.017620     0.014772\n",
              "int_memory         -0.004004  0.041177  ...  0.006993     0.044435\n",
              "m_dep               0.034085  0.004049  ... -0.028353     0.000853\n",
              "mobile_wt           0.001844 -0.008605  ... -0.000409    -0.030302\n",
              "n_cores            -0.029727  0.036161  ... -0.009964     0.004399\n",
              "pc                  0.031441 -0.009952  ...  0.005389     0.033599\n",
              "px_height           0.014901 -0.006872  ...  0.051824     0.148858\n",
              "px_width           -0.008402 -0.041533  ...  0.030319     0.165818\n",
              "ram                -0.000653  0.026351  ...  0.022669     0.917046\n",
              "sc_h               -0.029959 -0.002952  ...  0.025929     0.022986\n",
              "sc_w               -0.021421  0.000613  ...  0.035423     0.038711\n",
              "talk_time           0.052510  0.013934  ... -0.029504     0.021859\n",
              "three_g             0.011522 -0.030236  ...  0.004316     0.023611\n",
              "touch_screen       -0.010516  0.010061  ...  0.011917    -0.030411\n",
              "wifi               -0.008343 -0.021863  ...  1.000000     0.018785\n",
              "price_range         0.200723  0.020573  ...  0.018785     1.000000\n",
              "\n",
              "[21 rows x 21 columns]"
            ]
          },
          "metadata": {
            "tags": []
          },
          "execution_count": 8
        }
      ]
    },
    {
      "cell_type": "markdown",
      "metadata": {
        "id": "3eFwIwmRQ_gh"
      },
      "source": [
        "Para poder identificar mejor las variables correlacionadas entre si, se ha realizado un mapa de calor, donde los valores de correlación mayores a 0.75 son mostrados en blanco. Como el valor de price_range es la variable de interés para el problema, se ha puesto como primera variable, y se han ordenado las otras a partir de esta."
      ]
    },
    {
      "cell_type": "code",
      "metadata": {
        "id": "or0iWQ2GMkR2",
        "colab": {
          "base_uri": "https://localhost:8080/",
          "height": 0
        },
        "outputId": "526756b3-6b0a-4464-f160-1c7cb1475205"
      },
      "source": [
        "train = df\n",
        "columns = df.corr(method=\"pearson\")[\"price_range\"].sort_values(ascending=False)[:].index \n",
        "\n",
        "corr = train[columns].corr(method=\"pearson\")\n",
        "\n",
        "plt.figure(figsize=(10,10))\n",
        "sns.heatmap(corr, cmap=\"YlGnBu\", vmax=0.75);"
      ],
      "execution_count": 9,
      "outputs": [
        {
          "output_type": "display_data",
          "data": {
            "image/png": "[encoded data removed]",
            "text/plain": [
              "<Figure size 720x720 with 2 Axes>"
            ]
          },
          "metadata": {
            "tags": [],
            "needs_background": "light"
          }
        }
      ]
    },
    {
      "cell_type": "markdown",
      "metadata": {
        "id": "YLBEOEzCQhqo"
      },
      "source": [
        "Como se puede observar, las variables de mayor importancia para la prediccion del rango de precio son:     \r\n",
        "ram, battery_power, px_width, px_height, estando estas 2 últimas muy correlacionadas entre sí"
      ]
    },
    {
      "cell_type": "code",
      "metadata": {
        "id": "kGCggZvdR97y",
        "colab": {
          "base_uri": "https://localhost:8080/",
          "height": 0
        },
        "outputId": "a38167d7-eba8-4c98-c287-79d555fe4229"
      },
      "source": [
        "df2 = df[[\"price_range\", 'ram', 'battery_power', 'px_width', 'px_height']]\r\n",
        "train = df2\r\n",
        "columns = df2.corr(method=\"pearson\")[\"price_range\"].sort_values(ascending=False)[:].index \r\n",
        "\r\n",
        "corr = train[columns].corr(method=\"pearson\")\r\n",
        "\r\n",
        "plt.figure(figsize=(4,4))\r\n",
        "sns.heatmap(corr, cmap=\"YlGnBu\", vmax=0.75);"
      ],
      "execution_count": 10,
      "outputs": [
        {
          "output_type": "display_data",
          "data": {
            "image/png": "[encoded data removed]",
            "text/plain": [
              "<Figure size 288x288 with 2 Axes>"
            ]
          },
          "metadata": {
            "tags": [],
            "needs_background": "light"
          }
        }
      ]
    },
    {
      "cell_type": "markdown",
      "metadata": {
        "id": "qAbxQL5yTzBA"
      },
      "source": [
        "df2 supone un excesivo acotamiento de los datos por lo que puede generar un peor resultado del modelo predictivo"
      ]
    },
    {
      "cell_type": "markdown",
      "metadata": {
        "id": "3d1Hv1_3UH0K"
      },
      "source": [
        "para optimizar la evaluación de los datos eliminaremos las variables que tienen alta correlación con otra variable del modelo pero poca correlacion con la variable objetivo, en concreto eliminaremos fc por su alta correlacion con pc y four_g por su correlación con three_g"
      ]
    },
    {
      "cell_type": "code",
      "metadata": {
        "id": "v8QvRnMjTzew"
      },
      "source": [
        "try:\r\n",
        "  df = df.drop(['fc', 'four_g'], axis=1)\r\n",
        "except:\r\n",
        "  pass  # Ya han sido eliminadas en una ejecución anterior"
      ],
      "execution_count": 11,
      "outputs": []
    },
    {
      "cell_type": "markdown",
      "metadata": {
        "id": "ImF0Pq4MRPJj"
      },
      "source": [
        "Se muestran los 3 valores máximos para cada variable de correlación, ignorando la correlación de valor 1 de la misma variable."
      ]
    },
    {
      "cell_type": "code",
      "metadata": {
        "id": "LQlzeR2BRJVC",
        "colab": {
          "base_uri": "https://localhost:8080/"
        },
        "outputId": "b3b048ed-157c-41dd-d673-a922376101b0"
      },
      "source": [
        "for column in columns:\n",
        "  temp = df.corr(method=\"pearson\")[column].sort_values(ascending=False)[1:4]\n",
        "  print(\"{}: {}\".format(column,temp))\n",
        "  print(\"-------------------------------------\")"
      ],
      "execution_count": 12,
      "outputs": [
        {
          "output_type": "stream",
          "text": [
            "price_range: ram              0.917046\n",
            "battery_power    0.200723\n",
            "px_width         0.165818\n",
            "Name: price_range, dtype: float64\n",
            "-------------------------------------\n",
            "ram: price_range    0.917046\n",
            "dual_sim       0.041072\n",
            "sc_w           0.035576\n",
            "Name: ram, dtype: float64\n",
            "-------------------------------------\n",
            "battery_power: price_range    0.200723\n",
            "talk_time      0.052510\n",
            "m_dep          0.034085\n",
            "Name: battery_power, dtype: float64\n",
            "-------------------------------------\n",
            "px_width: px_height      0.510664\n",
            "price_range    0.165818\n",
            "sc_w           0.034699\n",
            "Name: px_width, dtype: float64\n",
            "-------------------------------------\n",
            "px_height: px_width       0.510664\n",
            "price_range    0.148858\n",
            "sc_h           0.059615\n",
            "Name: px_height, dtype: float64\n",
            "-------------------------------------\n"
          ],
          "name": "stdout"
        }
      ]
    },
    {
      "cell_type": "code",
      "metadata": {
        "id": "fUsSqlP4LPwh",
        "colab": {
          "base_uri": "https://localhost:8080/",
          "height": 0
        },
        "outputId": "9c34b258-e1ee-42b1-892b-681873bceff6"
      },
      "source": [
        "plt.scatter(df[\"ram\"], df[\"price_range\"], marker='.')\r\n"
      ],
      "execution_count": 13,
      "outputs": [
        {
          "output_type": "execute_result",
          "data": {
            "text/plain": [
              "<matplotlib.collections.PathCollection at 0x7f179dd3fb00>"
            ]
          },
          "metadata": {
            "tags": []
          },
          "execution_count": 13
        },
        {
          "output_type": "display_data",
          "data": {
            "image/png": "[encoded data removed]",
            "text/plain": [
              "<Figure size 432x288 with 1 Axes>"
            ]
          },
          "metadata": {
            "tags": [],
            "needs_background": "light"
          }
        }
      ]
    },
    {
      "cell_type": "markdown",
      "metadata": {
        "id": "wwondVhbVEfP"
      },
      "source": [
        "Como se puede observar en esta representación de los datos exite una relación muy lineal entre RAM y el rango de precio del teléfono"
      ]
    },
    {
      "cell_type": "markdown",
      "metadata": {
        "id": "W1i0E8H8I6RY"
      },
      "source": [
        "## 2.4 Datos finales <a name=\"2.4\"></a>"
      ]
    },
    {
      "cell_type": "markdown",
      "metadata": {
        "id": "0Ksflr92Vg1J"
      },
      "source": [
        "elegimos la variable objetivo y dividimos el conjunto entre entrenamiento y validación"
      ]
    },
    {
      "cell_type": "code",
      "metadata": {
        "id": "xE47jMCGexnl"
      },
      "source": [
        "X = df.drop('price_range', axis=1)\r\n",
        "y = df['price_range']\r\n",
        "\r\n",
        "X_train, X_test, y_train, y_test = train_test_split(X, y, test_size = 0.20)"
      ],
      "execution_count": 14,
      "outputs": []
    },
    {
      "cell_type": "markdown",
      "metadata": {
        "id": "BFOK-3imAc20"
      },
      "source": [
        "# 3. Máquina de vectores de soporte  <a name=\"3\"></a>"
      ]
    },
    {
      "cell_type": "markdown",
      "metadata": {
        "id": "1T-n69ha4nPo"
      },
      "source": [
        "## 3.1 Máquina de vectores de soporte lineal <a name=\"3.1\"></a>"
      ]
    },
    {
      "cell_type": "code",
      "metadata": {
        "id": "qbc4PJjpTIPB",
        "colab": {
          "base_uri": "https://localhost:8080/"
        },
        "outputId": "1f55e6e5-2f33-4ca7-9326-ec2c4f333384"
      },
      "source": [
        "svclassifier = SVC(kernel='linear')\r\n",
        "clf = svclassifier.fit(X_train, y_train)\r\n",
        "y_pred = svclassifier.predict(X_test)\r\n",
        "\r\n",
        "print(confusion_matrix(y_test,y_pred))\r\n",
        "print(classification_report(y_test,y_pred))"
      ],
      "execution_count": 15,
      "outputs": [
        {
          "output_type": "stream",
          "text": [
            "[[101   2   0   0]\n",
            " [  2  92   1   0]\n",
            " [  0   4  96   2]\n",
            " [  0   0   2  98]]\n",
            "              precision    recall  f1-score   support\n",
            "\n",
            "           0       0.98      0.98      0.98       103\n",
            "           1       0.94      0.97      0.95        95\n",
            "           2       0.97      0.94      0.96       102\n",
            "           3       0.98      0.98      0.98       100\n",
            "\n",
            "    accuracy                           0.97       400\n",
            "   macro avg       0.97      0.97      0.97       400\n",
            "weighted avg       0.97      0.97      0.97       400\n",
            "\n"
          ],
          "name": "stdout"
        }
      ]
    },
    {
      "cell_type": "markdown",
      "metadata": {
        "id": "xHhI1BwN4uG3"
      },
      "source": [
        "## 3.2 Máquina de vectores de soporte no lineales <a name=\"3.2\"></a>"
      ]
    },
    {
      "cell_type": "code",
      "metadata": {
        "id": "wHpAYTy2NxgS",
        "colab": {
          "base_uri": "https://localhost:8080/"
        },
        "outputId": "c63b2c7d-6530-4800-f051-10efee6c2974"
      },
      "source": [
        "for k in ['poly', 'rbf', 'sigmoid']:\r\n",
        "  print(f'-------------------- SVC tipo: {k} --------------------')\r\n",
        "  print(f'-------------------------------------------------------')\r\n",
        "  svclassifier = SVC(kernel=k)\r\n",
        "  svclassifier.fit(X_train, y_train)\r\n",
        "  y_pred = svclassifier.predict(X_test)\r\n",
        "\r\n",
        "  print(confusion_matrix(y_test,y_pred))\r\n",
        "  print(classification_report(y_test,y_pred))\r\n",
        "  print(f'-------------------------------------------------------')"
      ],
      "execution_count": 16,
      "outputs": [
        {
          "output_type": "stream",
          "text": [
            "-------------------- SVC tipo: poly --------------------\n",
            "-------------------------------------------------------\n",
            "[[103   0   0   0]\n",
            " [ 11  81   3   0]\n",
            " [  0   6  93   3]\n",
            " [  0   0   3  97]]\n",
            "              precision    recall  f1-score   support\n",
            "\n",
            "           0       0.90      1.00      0.95       103\n",
            "           1       0.93      0.85      0.89        95\n",
            "           2       0.94      0.91      0.93       102\n",
            "           3       0.97      0.97      0.97       100\n",
            "\n",
            "    accuracy                           0.94       400\n",
            "   macro avg       0.94      0.93      0.93       400\n",
            "weighted avg       0.94      0.94      0.93       400\n",
            "\n",
            "-------------------------------------------------------\n",
            "-------------------- SVC tipo: rbf --------------------\n",
            "-------------------------------------------------------\n",
            "[[103   0   0   0]\n",
            " [  4  89   2   0]\n",
            " [  0  10  85   7]\n",
            " [  0   0   1  99]]\n",
            "              precision    recall  f1-score   support\n",
            "\n",
            "           0       0.96      1.00      0.98       103\n",
            "           1       0.90      0.94      0.92        95\n",
            "           2       0.97      0.83      0.89       102\n",
            "           3       0.93      0.99      0.96       100\n",
            "\n",
            "    accuracy                           0.94       400\n",
            "   macro avg       0.94      0.94      0.94       400\n",
            "weighted avg       0.94      0.94      0.94       400\n",
            "\n",
            "-------------------------------------------------------\n",
            "-------------------- SVC tipo: sigmoid --------------------\n",
            "-------------------------------------------------------\n",
            "[[70  0  0 33]\n",
            " [ 8  9  0 78]\n",
            " [ 1 19  0 82]\n",
            " [28 66  0  6]]\n",
            "              precision    recall  f1-score   support\n",
            "\n",
            "           0       0.65      0.68      0.67       103\n",
            "           1       0.10      0.09      0.10        95\n",
            "           2       0.00      0.00      0.00       102\n",
            "           3       0.03      0.06      0.04       100\n",
            "\n",
            "    accuracy                           0.21       400\n",
            "   macro avg       0.20      0.21      0.20       400\n",
            "weighted avg       0.20      0.21      0.20       400\n",
            "\n",
            "-------------------------------------------------------\n"
          ],
          "name": "stdout"
        }
      ]
    },
    {
      "cell_type": "markdown",
      "metadata": {
        "id": "URB4oVXWf0OJ"
      },
      "source": [
        "A la vista de los resultados, la mejor solución es la máquina de vectores de soporte lineal"
      ]
    },
    {
      "cell_type": "markdown",
      "metadata": {
        "id": "htdnYFArVf65"
      },
      "source": [
        "# 4. Red neuronal <a name=\"4\"></a>"
      ]
    },
    {
      "cell_type": "markdown",
      "metadata": {
        "id": "mtbSp9j2c8wz"
      },
      "source": [
        "## 4.1 Keras Neural Network <a name=\"4.1\"></a>"
      ]
    },
    {
      "cell_type": "code",
      "metadata": {
        "id": "hZhFlPWdefRA",
        "colab": {
          "base_uri": "https://localhost:8080/"
        },
        "outputId": "a45e2931-9972-4881-ded8-bf7bd34fd1ae"
      },
      "source": [
        "# define the keras model\r\n",
        "model = Sequential()\r\n",
        "model.add(Dense(2, input_dim=18, activation='linear'))\r\n",
        "model.add(Dense(4, activation='linear'))\r\n",
        "model.add(Dense(1, activation='linear'))\r\n",
        "\r\n",
        "# compile the keras model\r\n",
        "model.compile(optimizer='adam', loss='mse', metrics=['accuracy'])\r\n",
        "# fit the keras model on the dataset\r\n",
        "model.fit(X_train, y_train, epochs=500, batch_size=5, verbose=0)\r\n",
        "# evaluate the keras model\r\n",
        "_, accuracy = model.evaluate(X_test, y_test)\r\n",
        "print('Accuracy: %.2f' % (accuracy*100))\r\n",
        "\r\n",
        "y_pred = model.predict(X_test, batch_size=64, verbose=1)\r\n",
        "y_pred_bool = np.argmax(y_pred, axis=1)\r\n",
        "\r\n",
        "\r\n",
        "print(classification_report(y_test, y_pred_bool))\r\n"
      ],
      "execution_count": 17,
      "outputs": [
        {
          "output_type": "stream",
          "text": [
            "13/13 [==============================] - 0s 1ms/step - loss: 0.1042 - accuracy: 0.4700\n",
            "Accuracy: 47.00\n",
            "7/7 [==============================] - 0s 1ms/step\n",
            "              precision    recall  f1-score   support\n",
            "\n",
            "           0       0.26      1.00      0.41       103\n",
            "           1       0.00      0.00      0.00        95\n",
            "           2       0.00      0.00      0.00       102\n",
            "           3       0.00      0.00      0.00       100\n",
            "\n",
            "    accuracy                           0.26       400\n",
            "   macro avg       0.06      0.25      0.10       400\n",
            "weighted avg       0.07      0.26      0.11       400\n",
            "\n"
          ],
          "name": "stdout"
        }
      ]
    },
    {
      "cell_type": "markdown",
      "metadata": {
        "id": "Da9BSTxeV016"
      },
      "source": [
        "La red neuronal Keras da una muy baja precisión, por lo que debemos probar con otro tipo de red neuronal.\r\n",
        "Nota: se utilizó como activación una función lineal ya que con otras funciones generaba soluciones con precisión más bajas."
      ]
    },
    {
      "cell_type": "markdown",
      "metadata": {
        "id": "4JsyVtE8pDcx"
      },
      "source": [
        "## Sklearn Neural Network  <a name=\"4.2\"></a>"
      ]
    },
    {
      "cell_type": "markdown",
      "metadata": {
        "id": "dfTCfntqo_Mk"
      },
      "source": [
        "### 4.2 Validación cruzada  <a name=\"4.2\"></a>"
      ]
    },
    {
      "cell_type": "code",
      "metadata": {
        "id": "j9QNmv0WhqJi"
      },
      "source": [
        "# Split the data - training set and testing set (for generalization)\r\n",
        "X_train_1, X_test_1, y_train_1, y_test_1 = train_test_split(X, y, test_size=0.2, random_state=1234)"
      ],
      "execution_count": 18,
      "outputs": []
    },
    {
      "cell_type": "code",
      "metadata": {
        "id": "JfU2POtGmmBc"
      },
      "source": [
        "# Split the training set above into 2 sets: smaller training set and a validation set\r\n",
        "X_train, X_test, y_train, y_test = train_test_split(X_train_1, y_train_1, train_size=0.8, random_state=1234)"
      ],
      "execution_count": 19,
      "outputs": []
    },
    {
      "cell_type": "markdown",
      "metadata": {
        "id": "XPG9ehvOo0xT"
      },
      "source": [
        "### 4.2.1 Elección del rango de aprendizaje inicial óptimo  <a name=\"4.2.1\"></a>"
      ]
    },
    {
      "cell_type": "code",
      "metadata": {
        "colab": {
          "base_uri": "https://localhost:8080/"
        },
        "id": "-ygWbdWvlbVZ",
        "outputId": "e842920f-c55c-4408-81a4-fc99c57f8298"
      },
      "source": [
        "df_lri = pd.DataFrame(columns=['learning_rate_init', 'Accuracy'])\r\n",
        "# The range\r\n",
        "lriRange = np.arange(0.00001, 0.002, 0.00001)\r\n",
        "# The best  value\r\n",
        "bestlri = -1\r\n",
        "# The highest accuracy\r\n",
        "highestAccuracy = 0.0\r\n",
        "\r\n",
        "# Iterate through the range of values for parameter learning_rate_init\r\n",
        "for lri in lriRange:\r\n",
        "    # Create the  with the current ranged-value and all other params set to default\r\n",
        "    model = MLPClassifier(random_state=1234, solver='sgd', activation='logistic', learning_rate='adaptive', learning_rate_init=lri)\r\n",
        "                                                             \r\n",
        "    # Train the model\r\n",
        "    model.fit(X_train, y_train)\r\n",
        "    \r\n",
        "    # Base on what the model has learned set it to predict the outcome of the validation set\r\n",
        "    y_pred = model.predict(X_test)\r\n",
        "    \r\n",
        "    # Determine the model's accuracy on the validation set\r\n",
        "    modelAccuracy = accuracy_score(y_test, y_pred)*100\r\n",
        "    \r\n",
        "    # Save the data and plot later\r\n",
        "    df_lri = df_lri.append({'learning_rate_init':lri, 'Accuracy':modelAccuracy}, ignore_index=True)\r\n",
        "    \r\n",
        "    # Save the highest accuracy based on the training size\r\n",
        "    if modelAccuracy > highestAccuracy:\r\n",
        "        bestlri = lri\r\n",
        "        highestAccuracy = modelAccuracy\r\n",
        "        \r\n",
        "print(df_lri.loc[df_lri['Accuracy'].idxmax()])\r\n",
        "l_i = df_lri.loc[df_lri['Accuracy'].idxmax()].learning_rate_init"
      ],
      "execution_count": 25,
      "outputs": [
        {
          "output_type": "stream",
          "text": [
            "learning_rate_init     0.00168\n",
            "Accuracy              61.87500\n",
            "Name: 167, dtype: float64\n"
          ],
          "name": "stdout"
        }
      ]
    },
    {
      "cell_type": "markdown",
      "metadata": {
        "id": "3b4fr8vzot8L"
      },
      "source": [
        "### 4.2.2 Elección del momentum óptimo <a name=\"4.2.2\"></a>"
      ]
    },
    {
      "cell_type": "code",
      "metadata": {
        "colab": {
          "base_uri": "https://localhost:8080/"
        },
        "id": "0rjp-LNuhBTM",
        "outputId": "c8c06217-2ef0-493b-aced-960afb7f4161"
      },
      "source": [
        "'''Determine best momentum value for best training size identified above'''\r\n",
        "# A dataframe keeping track of the progress and for plotting later\r\n",
        "df_m = pd.DataFrame(columns=['momentum', 'Accuracy'])\r\n",
        "# The range\r\n",
        "momRange = np.arange(0.01, 1.0, 0.01)\r\n",
        "# The best  value\r\n",
        "bestMom = -1\r\n",
        "# The highest accuracy\r\n",
        "highestAccuracy = 0.0\r\n",
        "\r\n",
        "# Iterate through the range of values for parameter momentum\r\n",
        "for mom in momRange:\r\n",
        "    # Create the  with the current ranged-value and all other params set to default\r\n",
        "    model = MLPClassifier(random_state=1234, solver='sgd', activation='logistic', learning_rate='adaptive', learning_rate_init=l_i, momentum=mom)\r\n",
        "                                                             \r\n",
        "    # Train the model\r\n",
        "    model.fit(X_train, y_train)\r\n",
        "    \r\n",
        "    # Base on what the model has learned set it to predict the outcome of the validation set\r\n",
        "    y_pred = model.predict(X_test)\r\n",
        "    \r\n",
        "    # Determine the model's accuracy on the validation set\r\n",
        "    modelAccuracy = accuracy_score(y_test, y_pred)*100\r\n",
        "    \r\n",
        "    # Save the data and plot later\r\n",
        "    df_m = df_m.append({'momentum':mom, 'Accuracy':modelAccuracy}, ignore_index=True)\r\n",
        "    \r\n",
        "    # Save the highest accuracy based on the training size\r\n",
        "    if modelAccuracy > highestAccuracy:\r\n",
        "        bestMom = mom\r\n",
        "        highestAccuracy = modelAccuracy\r\n",
        "\r\n",
        "print(df_m.loc[df_m['Accuracy'].idxmax()])\r\n",
        "momentum = df_m.loc[df_m['Accuracy'].idxmax()].momentum"
      ],
      "execution_count": 26,
      "outputs": [
        {
          "output_type": "stream",
          "text": [
            "momentum     0.900\n",
            "Accuracy    61.875\n",
            "Name: 89, dtype: float64\n"
          ],
          "name": "stdout"
        }
      ]
    },
    {
      "cell_type": "markdown",
      "metadata": {
        "id": "KvBBOy2RpRMI"
      },
      "source": [
        "### 4.2.3 Ejecución  <a name=\"4.2.3\"></a>"
      ]
    },
    {
      "cell_type": "code",
      "metadata": {
        "colab": {
          "base_uri": "https://localhost:8080/"
        },
        "id": "asyB1NRobtsr",
        "outputId": "ab36da10-6b39-4bed-e5ec-46cb00aefb6f"
      },
      "source": [
        "# Optimal identified params\r\n",
        "model = MLPClassifier(random_state=1234, solver='sgd', activation='logistic', learning_rate='adaptive', learning_rate_init=l_i, momentum=momentum, max_iter=200, hidden_layer_sizes=2450)\r\n",
        "# cross_val_score will split the training data for me - in this case 4 sets\r\n",
        "crossVal = cross_validate(model,X_train, y_train, cv=4, scoring='accuracy', return_estimator=True)\r\n",
        "print(f\"The accuracy scores of the 4 models under cross-validation: {list(crossVal['test_score'])}\")\r\n",
        "\r\n",
        "# Get the classifier that did the best\r\n",
        "scores = list(crossVal['test_score'])\r\n",
        "index = scores.index(max(scores))\r\n",
        "bestModel = crossVal['estimator'][index]\r\n",
        "print(\"Best Model's accuracy using cross-validation: {0:.2f}%\".format(scores[index]*100))\r\n",
        "\r\n",
        "# Base on what the model has learned set it to predict the outcome of the TEST set\r\n",
        "y_pred = bestModel.predict(X_test)\r\n",
        "\r\n",
        "# Determine the model's accuracy on the TEST set\r\n",
        "modelAccuracy = accuracy_score(y_test, y_pred)*100\r\n",
        "print(\"Best Model's accuracy against Test Dataset: {0:.2f}%\".format(modelAccuracy))\r\n",
        "print(classification_report(y_test, y_pred))"
      ],
      "execution_count": 27,
      "outputs": [
        {
          "output_type": "stream",
          "text": [
            "The accuracy scores of the 4 models under cross-validation: [0.603125, 0.640625, 0.68125, 0.653125]\n",
            "Best Model's accuracy using cross-validation: 68.12%\n",
            "Best Model's accuracy against Test Dataset: 63.75%\n",
            "              precision    recall  f1-score   support\n",
            "\n",
            "           0       0.90      0.66      0.77        86\n",
            "           1       0.54      0.52      0.53        69\n",
            "           2       0.49      0.39      0.43        75\n",
            "           3       0.63      0.91      0.74        90\n",
            "\n",
            "    accuracy                           0.64       320\n",
            "   macro avg       0.64      0.62      0.62       320\n",
            "weighted avg       0.65      0.64      0.63       320\n",
            "\n"
          ],
          "name": "stdout"
        }
      ]
    },
    {
      "cell_type": "markdown",
      "metadata": {
        "id": "hHQt8BXj1kao"
      },
      "source": [
        "Tras la ejecución, la solución con mayor precisión dentro de las redes neuronales es la red neuronal de sklearn "
      ]
    },
    {
      "cell_type": "markdown",
      "metadata": {
        "id": "78RPo15teYpL"
      },
      "source": [
        "# 5. Conclusiones  <a name=\"5\"></a>"
      ]
    },
    {
      "cell_type": "markdown",
      "metadata": {
        "id": "HThXuG7Ieb2k"
      },
      "source": [
        "A la vista de los resultados podemos confirmar que genera una mejor predicción la máquina de vectores de soporte que las redes neuronales, además de ejecutarse con una velocidad mucho mayor, ya que las redes neuronales no sólo su ejecución es más lenta sino que además es necesario encontrar el momentum y el rango de aprendizaje inicial, con el coste computacional que eso conlleva.\r\n"
      ]
    }
  ]
}